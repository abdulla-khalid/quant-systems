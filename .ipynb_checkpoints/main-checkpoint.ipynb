{
 "cells": [
  {
   "cell_type": "markdown",
   "metadata": {},
   "source": [
    "### Machine Learning in the Stock Market\n",
    "\n",
    "The objective of this project is to use a machine learning model to make price prediction insights. We will be using a Long Short Term Memory (LSTM) Neural Network for prdicting a potenitial increase or decrease in price. The reason we chose LSTM is for its ability to dynamically include current and past data in the model for making its predictions.\n",
    "\n",
    "Credit: Blankly Finance is a package that allows you to build trading strategies and backtest them. I used the Blankly library, docs, and tutorials to build this project out. "
   ]
  },
  {
   "cell_type": "code",
   "execution_count": 1,
   "metadata": {},
   "outputs": [],
   "source": [
    "import blankly\n",
    "import numpy as np\n",
    "import torch\n",
    "import torch.nn as nn\n",
    "import torch.nn.functional as F\n",
    "import torch.optim as optim\n",
    "from torch.nn import LSTM\n",
    "from torch.autograd import Variable"
   ]
  },
  {
   "cell_type": "markdown",
   "metadata": {},
   "source": [
    "#### Preparing the Data\n",
    "\n",
    "We will be using historical price data of the last year, but will generate smaller episodes using the sliding window technique of creating training and testing sets."
   ]
  },
  {
   "cell_type": "code",
   "execution_count": 2,
   "metadata": {},
   "outputs": [],
   "source": [
    "def gen_episode(data, length, output):\n",
    "    \n",
    "    x = []\n",
    "    y = []\n",
    "    \n",
    "    for i in range(len(data) - length):\n",
    "        x_curr = data[i : (i + length - output)]\n",
    "        y_curr = data[i + length - output : i + length]\n",
    "        x.append(x_curr)\n",
    "        y.append(y_curr)\n",
    "        \n",
    "    return np.array(x), np.array(y)"
   ]
  },
  {
   "cell_type": "markdown",
   "metadata": {},
   "source": [
    "#### Creating our Model\n",
    "\n",
    "Now, we will initialize our LSTM model using the technical indicators, RSI and MACD. "
   ]
  },
  {
   "cell_type": "code",
   "execution_count": 3,
   "metadata": {},
   "outputs": [],
   "source": [
    "def init_model(symbol, state: blankly.StrategyState):\n",
    "    \n",
    "    'Setting up interface with Blankly tools '\n",
    "    interface = state.interface\n",
    "    resolution = state.resolution\n",
    "    variables = state.variables\n",
    "    \n",
    "    'Storing the close price for the last 300 data points'\n",
    "    variables['history'] = interface.history(symbol, 300, resolution, return_as='list')['close']\n",
    "    \n",
    "    'Setting up indicators '\n",
    "    rsi = blankly.indicators.rsi(state.variables['history'])\n",
    "    macd = blankly.indicators.macd(state.variables['history'])\n",
    "    \n",
    "    'Splitting the data into 5 training data points and 3 testing data points'\n",
    "    seq_length = 8\n",
    "    output_length = 3\n",
    "    \n",
    "    'Normalizing and gathering the data'\n",
    "    \n",
    "    'We start at 26 because the MACD uses the 26 day MA so we need at least 26 data points before having a MACD value'\n",
    "    x = [variables['history'][i] / variables['history'][i-1] for i in range(25, len(variables['history']))] \n",
    "    x , y = gen_episode(x, seq_length, output_length)\n",
    "    y = Variable(torch.Tensor(np.array(y))).unsqueeze(0)\n",
    "    \n",
    "    rsi_x = rsi[11:]\n",
    "    rsi_x,_ = gen_episode(rsi_x, seq_length, output_length)\n",
    "    \n",
    "    macd_values,_ = gen_episode(macd[0], seq_length, output_length)\n",
    "    macd_signals,_ = gen_episode(macd[1], seq_length, output_length)\n",
    "    \n",
    "    'Put all the features into one data structure'\n",
    "    x_all = np.zeros((len(x), seq_length-output_length, 4))\n",
    "    \n",
    "    for i in range(len(x)):\n",
    "        for j in range(seq_length - output_length):\n",
    "            x_all[i][j][0] = x[i][j]\n",
    "            x_all[i][j][1] = rsi_x[i][j]\n",
    "            x_all[i][j][2] = macd_values[i][j]\n",
    "            x_all[i][j][3] = macd_signals[i][j]\n",
    "            \n",
    "    x_final = Variable(torch.Tensor(x_all))\n",
    "    \n",
    "    \n",
    "    'Training our LSTM model'\n",
    "    num_epochs = 10000\n",
    "    learning_rate = 0.0003\n",
    "    \n",
    "    state.lstm = LSTM(4, 20, batch_first = True)\n",
    "    state.linear = nn.Linear(20, 3)\n",
    "    criterion = torch.nn.MSELoss()\n",
    "    \n",
    "    'Optimizer for LSTM and Linear Layer'\n",
    "    optimizer = torch.optim.Adam([\n",
    "        {'params': state.lstm.parameters()},\n",
    "        {'params': state.linear.parameters()},],\n",
    "        lr=learning_rate)\n",
    "    \n",
    "    'Run the model for each epoch'\n",
    "    for epoch in range(num_epochs):\n",
    "        outputs, (h_n, c_n) = state.lstm(x_final)\n",
    "        out = state.linear(h_n)\n",
    "        'We are using sigmoid activation for our linear layer so we get positive values for an increase in price and negative for a decrease in price'\n",
    "        out = F.sigmoid(out) + 0.5\n",
    "        optimizer.zero_grad()\n",
    "        \n",
    "        'Calculate our loss and backpropogate'\n",
    "        loss = criterion(out, y)\n",
    "        loss.backward()\n",
    "        optimizer.step()\n",
    "        \n",
    "        'Display loss function every 500 epochs to ensure our model is effectively training'\n",
    "        if epoch % 500 == 0:\n",
    "            print(\"Epoch: %d -> Loss: %1.5f\" % (epoch, loss.item()))\n",
    "            \n",
    "    'Take the avg of the results from three days, two days, and one day out calculation, this will be done below'\n",
    "    state.three_readings = [[0,0], [0,0], [0,0]]"
   ]
  },
  {
   "cell_type": "markdown",
   "metadata": {},
   "source": [
    "#### Using our Model to create a Strategy\n",
    "\n",
    "We will take the outputs of our LSMT model and create a buy/sell strategy and backtest it"
   ]
  },
  {
   "cell_type": "code",
   "execution_count": 4,
   "metadata": {},
   "outputs": [],
   "source": [
    "def price_event(price, symbol, state: blankly.StrategyState):\n",
    "    \n",
    "    'Dynamically add current price to the history'\n",
    "    state.variables['history'].append(price)\n",
    "    \n",
    "    'Extract the data from the last 5 days and feed it to our model'\n",
    "    into = [state.variables['history'][i]/state.variables['history'][i-1] for i in range(-5, 0)]\n",
    "    rsi = blankly.indicators.rsi(state.variables['history'])\n",
    "    rsi_ = np.array(rsi[-5:])\n",
    "    macd = blankly.indicators.macd(state.variables['history'])\n",
    "    macd_values = np.array(macd[0][-5:])\n",
    "    macd_signals = np.array(macd[1][-5:])\n",
    "    \n",
    "    pred = np.zeros((1, len(into), 4))\n",
    "    \n",
    "    for i in range(len(into)):\n",
    "        pred[0][i][0] = into[i]\n",
    "        pred[0][i][1] = rsi_[i]\n",
    "        pred[0][i][2] = macd_values[i]\n",
    "        pred[0][i][3] = macd_signals[i]\n",
    "    \n",
    "    pred = torch.Tensor(pred)\n",
    "    \n",
    "    'Run the model'\n",
    "    out, (h, c) = state.lstm(pred)\n",
    "    out = state.linear(h)\n",
    "    out = F.sigmoid(out) + 0.5\n",
    "    \n",
    "    'Get the average of the last three days so we do not rely on a single day'\n",
    "    state.three_readings[0][0] += out[0][0][0]\n",
    "    state.three_readings[0][1] += 1\n",
    "    state.three_readings[1][0] += out[0][0][1]\n",
    "    state.three_readings[1][1] += 1\n",
    "    state.three_readings[2][0] += out[0][0][0]\n",
    "    state.three_readings[2][1] += 1\n",
    "    \n",
    "    avgprice = state.three_readings[0][0] / state.three_readings[0][1]\n",
    "    \n",
    "    'Create our buy/sell logic'\n",
    "    'If our prediction is 1 (we think price will go up), we buy proportional to how much the prediction is above 1. The same rule applies to Selling'\n",
    "    \n",
    "    value = blankly.trunc(state.interface.account[state.base_asset].available, 2)\n",
    "    \n",
    "    if avgprice > 1:\n",
    "        buy = blankly.trunc(state.interface.cash * 2 * (avgprice.item() - 1) / price, 2)\n",
    "        if buy > 0:\n",
    "            state.interface.market_order(symbol, side='buy', size=buy)\n",
    "    elif value > 0:\n",
    "        sell = blankly.trunc(value * 2 * (1 - avgprice.item()), 2)\n",
    "        if sell > 0:\n",
    "            state.interface.market_order(symbol, side='sell', size=sell)\n",
    "    \n",
    "    state.three_readings = [state.three_readings[1], state.three_readings[2], [0,0]]"
   ]
  },
  {
   "cell_type": "markdown",
   "metadata": {},
   "source": [
    "#### Backtest\n",
    "\n",
    "Connect to the Alpaca API and backtest our LSTM Model"
   ]
  },
  {
   "cell_type": "code",
   "execution_count": 5,
   "metadata": {},
   "outputs": [
    {
     "name": "stderr",
     "output_type": "stream",
     "text": [
      "INFO: \"binance_futures\" not specified in preferences, defaulting to: \"{'cash': 'USDT', 'margin_type': 'USDT-M'}\"\n",
      "INFO: \"okx\" not specified in preferences, defaulting to: \"{'cash': 'USDT'}\"\n",
      "INFO: No portfolio name to load specified, defaulting to the first in the file: (Alpaca). This is fine if there is only one portfolio in use.\n"
     ]
    },
    {
     "name": "stdout",
     "output_type": "stream",
     "text": [
      "\n",
      "Backtesting...\n"
     ]
    },
    {
     "name": "stderr",
     "output_type": "stream",
     "text": [
      "C:\\Users\\abdal\\anaconda3\\lib\\site-packages\\torch\\nn\\functional.py:1944: UserWarning: nn.functional.sigmoid is deprecated. Use torch.sigmoid instead.\n",
      "  warnings.warn(\"nn.functional.sigmoid is deprecated. Use torch.sigmoid instead.\")\n"
     ]
    },
    {
     "name": "stdout",
     "output_type": "stream",
     "text": [
      "Epoch: 0 -> Loss: 0.00133\n",
      "Epoch: 500 -> Loss: 0.00031\n",
      "Epoch: 1000 -> Loss: 0.00028\n",
      "Epoch: 1500 -> Loss: 0.00027\n",
      "Epoch: 2000 -> Loss: 0.00025\n",
      "Epoch: 2500 -> Loss: 0.00022\n",
      "Epoch: 3000 -> Loss: 0.00020\n",
      "Epoch: 3500 -> Loss: 0.00019\n",
      "Epoch: 4000 -> Loss: 0.00017\n",
      "Epoch: 4500 -> Loss: 0.00016\n",
      "Epoch: 5000 -> Loss: 0.00015\n",
      "Epoch: 5500 -> Loss: 0.00014\n",
      "Epoch: 6000 -> Loss: 0.00013\n",
      "Epoch: 6500 -> Loss: 0.00012\n",
      "Epoch: 7000 -> Loss: 0.00012\n",
      "Epoch: 7500 -> Loss: 0.00011\n",
      "Epoch: 8000 -> Loss: 0.00010\n",
      "Epoch: 8500 -> Loss: 0.00010\n",
      "Epoch: 9000 -> Loss: 0.00009\n",
      "Epoch: 9500 -> Loss: 0.00009\n",
      "Progress: [##########] 100% Done...\n",
      "\n",
      "Historical Dataframes: \n",
      "Account History: \n",
      "        AAPL          USD              time  Account Value (USD)\n",
      "0        0.0     200000.0  1620786669.94925        200000.000000\n",
      "1     306.47  162359.3546  1620786669.94925        200000.000000\n",
      "2     644.37  120142.1286  1620873069.94925        200649.716400\n",
      "3     875.07   90739.4136  1620959469.94925        202267.085100\n",
      "4    1127.75     58833.51  1621045869.94925        201234.502500\n",
      "..       ...          ...               ...                  ...\n",
      "361  1096.41  94625.06025  1651890669.94925        261345.164849\n",
      "362  1121.29  90841.80745  1651977069.94925        261345.164849\n",
      "363  1196.99  79330.86545  1652063469.94925        261345.164849\n",
      "364  1257.68  69953.65355  1652149869.94925        264277.790349\n",
      "365  1329.77  58815.02765  1652236269.94925        264277.790349\n",
      "\n",
      "[366 rows x 4 columns]\n",
      "Account Returns: \n",
      "             time         value\n",
      "0    1.620787e+09           NaN\n",
      "1    1.620873e+09  0.000000e+00\n",
      "2    1.620959e+09  3.248582e-03\n",
      "3    1.621046e+09  8.060658e-03\n",
      "4    1.621132e+09 -5.105045e-03\n",
      "..            ...           ...\n",
      "360  1.651891e+09  1.851980e-03\n",
      "361  1.651977e+09 -2.023363e-02\n",
      "362  1.652063e+09  3.774758e-15\n",
      "363  1.652150e+09  2.220446e-16\n",
      "364  1.652236e+09  1.122127e-02\n",
      "\n",
      "[365 rows x 2 columns]\n",
      "Resampled Account Value: \n",
      "             time          value\n",
      "0    1.620787e+09  200000.000000\n",
      "1    1.620873e+09  200000.000000\n",
      "2    1.620959e+09  200649.716400\n",
      "3    1.621046e+09  202267.085100\n",
      "4    1.621132e+09  201234.502500\n",
      "..            ...            ...\n",
      "360  1.651891e+09  266742.331649\n",
      "361  1.651977e+09  261345.164849\n",
      "362  1.652063e+09  261345.164849\n",
      "363  1.652150e+09  261345.164849\n",
      "364  1.652236e+09  264277.790349\n",
      "\n",
      "[365 rows x 2 columns]\n",
      "Blankly Metrics: \n",
      "Calmar Ratio:                      1.5\n",
      "Compound Annual Growth Rate (%):   32.0%\n",
      "Conditional Value-at-Risk:         103.62\n",
      "Cumulative Returns (%):            32.0%\n",
      "Max Drawdown (%):                  14.000000000000002%\n",
      "Resampled Time:                    86400.0\n",
      "Risk Free Return Rate:             0.0\n",
      "Sharpe Ratio:                      1.18\n",
      "Sortino Ratio:                     1.63\n",
      "Value-at-Risk:                     4280.9\n",
      "Variance (%):                      3.14%\n",
      "Volatility:                        0.18\n",
      "\n"
     ]
    },
    {
     "name": "stderr",
     "output_type": "stream",
     "text": [
      "INFO: View your backtest here: https://app.blankly.finance/Bba8YOlrozc44bOgbunka1bMIn62/g9QbfPpm0O26YTc7XSOa/05ccd965-ad21-4e84-b326-9cf25a81e3b7/backtest\n"
     ]
    }
   ],
   "source": [
    "exchange = blankly.Alpaca()\n",
    "strategy = blankly.Strategy(exchange)\n",
    "strategy.add_price_event(price_event, symbol='AAPL', resolution='1d', init=init_model)\n",
    "results = strategy.backtest(to='1y', initial_value={'USD': 200000})\n",
    "print(results)"
   ]
  },
  {
   "cell_type": "markdown",
   "metadata": {},
   "source": [
    "#### Conclusion\n",
    "\n",
    "We look at the performance metrics to evaluate the viability of this ML Model at trading AAPL. We see over a 1 year period of trading, we made 32.0% cumulative returns. This is considered good returns, when comparing to the average ~ 10% returns most index funds return. More important, we have a Sharpe Ratio of 1.18 which is also viable, because any Sharpe Ratio > 1 is considered attractive to investors. Overall, we see that our machine learning MSTL model performed very well. The results are promising and exciting because we ran this on very basic market indicators, RSI and MACD. With further feature space engineering and the use of better indicators, we can expect much higher returns."
   ]
  }
 ],
 "metadata": {
  "kernelspec": {
   "display_name": "Python 3",
   "language": "python",
   "name": "python3"
  },
  "language_info": {
   "codemirror_mode": {
    "name": "ipython",
    "version": 3
   },
   "file_extension": ".py",
   "mimetype": "text/x-python",
   "name": "python",
   "nbconvert_exporter": "python",
   "pygments_lexer": "ipython3",
   "version": "3.8.5"
  }
 },
 "nbformat": 4,
 "nbformat_minor": 4
}
